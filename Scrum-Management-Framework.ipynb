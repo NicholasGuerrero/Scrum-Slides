{
 "cells": [
  {
   "cell_type": "code",
   "execution_count": 1,
   "metadata": {
    "collapsed": true,
    "slideshow": {
     "slide_type": "skip"
    }
   },
   "outputs": [],
   "source": [
    "from IPython.display import Image"
   ]
  },
  {
   "cell_type": "markdown",
   "metadata": {
    "slideshow": {
     "slide_type": "slide"
    }
   },
   "source": [
    "# Table Of Contents\n",
    "\n",
    "##  1.) Product Backlog and the Product Owner\n",
    "## 2.) Sprints and the Sprint Backlog\n",
    "## 3.) Daily Scrum\n",
    "## 4.) Stories and Tasks\n",
    "## 5.) Scrumboard\n",
    "\n",
    "![Imagine of Stats](https://speckyboy.com/wp-content/uploads/2016/07/scrum-thumb-01.jpg)"
   ]
  },
  {
   "cell_type": "markdown",
   "metadata": {
    "slideshow": {
     "slide_type": "subslide"
    }
   },
   "source": [
    "## 6.) Estimating Stories and Tasks\n",
    "## 7.) Burndown Charts\n",
    "## 8.) Team Velocity\n",
    "## 9.) Scrum Master\n",
    "## 10.) Using Agile Software (Optional but Recommended)\n",
    "## 11.) Summary\n"
   ]
  },
  {
   "cell_type": "markdown",
   "metadata": {
    "slideshow": {
     "slide_type": "slide"
    }
   },
   "source": [
    "# What Is Scrum? (Its a Fun Productive Game)\n",
    "\n",
    "Once upon a time there was a team that wanted to complete an arbitrary project\n",
    "\n",
    "The story begins....\n"
   ]
  },
  {
   "cell_type": "markdown",
   "metadata": {
    "slideshow": {
     "slide_type": "slide"
    }
   },
   "source": [
    "\n",
    "The goal of this blog entry is to explain the basic concepts of Scrum. You learn how Scrum can help a team of developers and analysts to successfully complete a complex project in a refined and elegent way.\n",
    "\n",
    "![Image of Contrast|50x50](http://blog.axosoft.com/wp-content/uploads/2008/09/maxwellcurve-705860.jpg)"
   ]
  },
  {
   "cell_type": "markdown",
   "metadata": {
    "collapsed": true,
    "slideshow": {
     "slide_type": "slide"
    }
   },
   "source": [
    "#  1.) Product Backlog and the Product Owner\n",
    "\n",
    "Imagine that you are part of a team which needs to create a <del> new website </del> CCAR Control \n",
    "\n",
    ":For example,\n",
    "<del>\n",
    "An e-commerce website. You have an overwhelming amount of work to do. You need to build (or possibly buy) a shopping cart, install an SSL certificate, create a product catalog, create a Facebook page, and at least a hundred other things that you have not thought of yet.\n",
    "</del>\n",
    "\n",
    "A M-Callback Template. You have a good amount of work to do. You need to decide the design of the template. Find out what data you need in the template. Understand the data and verify the data is correct. Understand who the stakeholders are. Design a way for the LOB to give the template back.\n",
    "\n",
    "![Image of List](http://3a0ojxkezud2pogen3j4z0w18nq.wpengine.netdna-cdn.com/wp-content/uploads/2012/08/clip_image0021.jpg)"
   ]
  },
  {
   "cell_type": "markdown",
   "metadata": {
    "slideshow": {
     "slide_type": "slide"
    }
   },
   "source": [
    "According to Scrum, the first thing you should do is create a list. Place the highest priority items at the top of the list and the lower priority items lower in the list. For example, \n",
    "\n",
    "<del> creating the shopping cart and buying the domain name might be high priority items and creating a Facebook page might be a lower priority item. \n",
    "</del>\n",
    "\n",
    "Designing the template so you can understand the shape of the data might be a high priority item while designing a way for the LOB to fill out the template might be a lower priority item\n",
    "\n",
    "\n",
    "In Scrum, this list is called the Product Backlog."
   ]
  },
  {
   "cell_type": "markdown",
   "metadata": {
    "slideshow": {
     "slide_type": "slide"
    }
   },
   "source": [
    "# How do you prioritize the items in the Product Backlog? \n",
    "\n",
    "Different stakeholders in the project might have different priorities. \n",
    "\n",
    "<del>\n",
    "Gary, your division VP, thinks that it is crucial that the e-commerce site has a mobile app. Sally, your direct manager, thinks taking advantage of new HTML5 features is much more important. Multiple people are pulling you in different directions.\n",
    "</del>\n",
    "\n",
    "Banji, your division VP, thinks that is is crucial that the M-Callback be automated. While Rania, your senior, thinks that the LOB's need an easier way to callback the data. Multiple people are pulling each other in different directions"
   ]
  },
  {
   "cell_type": "markdown",
   "metadata": {
    "slideshow": {
     "slide_type": "slide"
    }
   },
   "source": [
    "# According to Scrum, it is important that you always designate one person, and only one person, as the Product Owner. \n",
    "\n",
    "The Product Owner is the person who decides what items should be added to the Product Backlog and the priority of the items in the Product Backlog. The Product Owner could be the customer who is paying the bills, the project manager who is responsible for delivering the project, or a customer representative. The critical point is that the Product Owner must always be a single person and that single person has absolute authority over the Product Backlog."
   ]
  },
  {
   "cell_type": "markdown",
   "metadata": {
    "slideshow": {
     "slide_type": "slide"
    }
   },
   "source": [
    "## 2.) Sprints and the Sprint Backlog\n",
    "\n",
    "So now the developer/analyst team has a prioritized list of items and they can start work. \n",
    "\n",
    "Hurray the Product Backlog is complete!!!  Now the Spints can start\n",
    "\n",
    "![Image of Runner](http://3a0ojxkezud2pogen3j4z0w18nq.wpengine.netdna-cdn.com/wp-content/uploads/2012/08/clip_image0041.jpg)"
   ]
  },
  {
   "cell_type": "markdown",
   "metadata": {
    "slideshow": {
     "slide_type": "slide"
    }
   },
   "source": [
    "The team starts implementing the first item in the Backlog — the shopping cart — and the team is making good progress. Unfortunately, however, half-way through the work of implementing the shopping cart, the Product Owner changes his mind. "
   ]
  },
  {
   "cell_type": "markdown",
   "metadata": {
    "slideshow": {
     "slide_type": "fragment"
    }
   },
   "source": [
    "The Product Owner decides that it is much more important to understand the data. With some frustration, the team switches their developmental efforts to focus on implementation. However, part way through completing this work, once again the Product Owner changes his mind about the highest priority item."
   ]
  },
  {
   "cell_type": "markdown",
   "metadata": {
    "slideshow": {
     "slide_type": "fragment"
    }
   },
   "source": [
    "Getting work done when priorities are constantly shifting is frustrating for any team and it results in lower productivity. At the same time, however, the Product Owner needs to have absolute authority over the priority of the items which need to get done. "
   ]
  },
  {
   "cell_type": "markdown",
   "metadata": {
    "slideshow": {
     "slide_type": "fragment"
    }
   },
   "source": [
    "Scrum solves this conflict with the concept of Sprints."
   ]
  },
  {
   "cell_type": "markdown",
   "metadata": {
    "slideshow": {
     "slide_type": "slide"
    }
   },
   "source": [
    "## In Scrum, a developer/analyst team works in Sprints. \n",
    "\n",
    "At the beginning of a Sprint the developers/analysts and the Product Owner agree on the items from the backlog which they will complete during the Sprint. (You can think of the backlog as the staging area for tasks to be discussed and when ready to commit they moved to the sprint backlog. This creates visibility)"
   ]
  },
  {
   "cell_type": "markdown",
   "metadata": {
    "slideshow": {
     "slide_type": "fragment"
    }
   },
   "source": [
    "This subset of items from the Product Backlog becomes the Sprint Backlog. During the Sprint, the Product Owner is not allowed to change the items in the Sprint Backlog. In other words, the Product Owner cannot shift priorities on the developer team during the Sprint."
   ]
  },
  {
   "cell_type": "markdown",
   "metadata": {
    "slideshow": {
     "slide_type": "fragment"
    }
   },
   "source": [
    "Different teams use Sprints of different lengths such as one month Sprints, two-week Sprints, and one week Sprints. For high-stress, time critical projects, teams typically choose shorter sprints such as one week sprints. For more mature projects, longer one month sprints might be more appropriate. A team can pick whatever Sprint length makes sense for them just as long as the team is consistent. You should pick a Sprint length and stick with it."
   ]
  },
  {
   "cell_type": "markdown",
   "metadata": {
    "slideshow": {
     "slide_type": "slide"
    }
   },
   "source": [
    "## 3.) Daily Scrum (5-15 min morning meetings everyday)\n",
    "Now the team is in their Sprint!!! GO GO GO\n",
    "\n",
    "During a Sprint, the developer team needs to have meetings to coordinate their work on completing the items in the ***Sprint Backlog*** (NOT THE PRODUCT BACKLOG!). \n",
    "\n",
    "For example, the team needs to discuss who is working on what and whether any blocking issues have been discovered."
   ]
  },
  {
   "cell_type": "markdown",
   "metadata": {
    "slideshow": {
     "slide_type": "slide"
    }
   },
   "source": [
    "## *Analyst and Developers..especially developers, hate meetings (well, sane ones hate meetings).*"
   ]
  },
  {
   "cell_type": "markdown",
   "metadata": {
    "slideshow": {
     "slide_type": "fragment"
    }
   },
   "source": [
    "Meetings take developers away from their work of actually implementing stuff as opposed to talking about implementing stuff."
   ]
  },
  {
   "cell_type": "markdown",
   "metadata": {
    "slideshow": {
     "slide_type": "fragment"
    }
   },
   "source": [
    "However, a developer team which never has meetings and never coordinates their work also has problems."
   ]
  },
  {
   "cell_type": "markdown",
   "metadata": {
    "slideshow": {
     "slide_type": "fragment"
    }
   },
   "source": [
    "For example, Nick might get stuck on a programming problem for days and never reach out for help even though Pabitra (who sits in the cubicle next to him) has already solved the very same problem. Or, both Nick and Sammeer might have started working on the same item from the Sprint Backlog at the same time."
   ]
  },
  {
   "cell_type": "markdown",
   "metadata": {
    "slideshow": {
     "slide_type": "slide"
    }
   },
   "source": [
    "## In Scrum, these conflicting needs – limiting meetings but enabling team coordination – are resolved with the idea of the Daily Scrum. \n",
    "\n",
    "The Daily Scrum is a meeting for coordinating the work of the technical team which happens once a day. To keep the meeting short, each member of this team answers only the following three questions:\n",
    "\n",
    "1. What have you done since yesterday?\n",
    "\n",
    "2. What do you plan to do today?\n",
    "\n",
    "3. Any impediments in your way? -- This is the important one"
   ]
  },
  {
   "cell_type": "markdown",
   "metadata": {
    "slideshow": {
     "slide_type": "slide"
    }
   },
   "source": [
    "### During the Daily Scrum, developers are not allowed to talk about issues with their cat, do demos of their latest work, or tell heroic stories of programming problems overcome. \n",
    "\n",
    "The meeting must be kept short — typically about 15 minutes. Issues which come up during the Daily Scrum should be discussed in separate meetings which \n",
    "# ***do not involve the entire team***."
   ]
  },
  {
   "cell_type": "markdown",
   "metadata": {
    "slideshow": {
     "slide_type": "slide"
    }
   },
   "source": [
    "## 4.) Stories and Tasks\n",
    "\n",
    "### Lets talk about some terminology\n",
    "\n",
    "Items in the Product or Sprint Backlog – such as building a shopping cart or creating a Facebook page – are often referred to as ___User Stories or Stories___. The Stories are created by the Product Owner and should represent some business need which is value."
   ]
  },
  {
   "cell_type": "markdown",
   "metadata": {
    "slideshow": {
     "slide_type": "slide"
    }
   },
   "source": [
    "Unlike the Product Owner, the techincal team needs to think about how a ___Story___ should be implemented. \n",
    "At the beginning of a Sprint, the team takes the Stories from the Sprint Backlog and breaks the stories into ___tasks or story points___."
   ]
  },
  {
   "cell_type": "markdown",
   "metadata": {
    "slideshow": {
     "slide_type": "fragment"
    }
   },
   "source": [
    "For example, the team might take the Create a M-Callback story and break it into the following story points:\n",
    "\n",
    "· Identify Stakeholders\n",
    "\n",
    "· Design the Template\n",
    "\n",
    "· Aggregate the Data"
   ]
  },
  {
   "cell_type": "markdown",
   "metadata": {
    "slideshow": {
     "slide_type": "fragment"
    }
   },
   "source": [
    "During the Daily Scrum, any member of the team volunteers to complete the story points required to implement the next Story in the ***Sprint Backlog***. When an analyst talks about what he did yesterday or plans to do tomorrow then the they should be referring to a story point."
   ]
  },
  {
   "cell_type": "markdown",
   "metadata": {
    "slideshow": {
     "slide_type": "slide"
    }
   },
   "source": [
    "## Stories are owned by the Product Owner (whom becomes the story teller)"
   ]
  },
  {
   "cell_type": "markdown",
   "metadata": {
    "slideshow": {
     "slide_type": "fragment"
    }
   },
   "source": [
    "and a story is all about business value. In contrast, the story points (the plot) are owned by the technical team and a story point is all about implementation details. A story might take several days or weeks to complete. A story point is something which an analyst can ***complete in less than a day***. "
   ]
  },
  {
   "cell_type": "markdown",
   "metadata": {
    "slideshow": {
     "slide_type": "fragment"
    }
   },
   "source": [
    "### The analyst becomes the character in the Product Owner's Story"
   ]
  },
  {
   "cell_type": "markdown",
   "metadata": {
    "slideshow": {
     "slide_type": "fragment"
    }
   },
   "source": [
    "<del> Some </del> A LOT (seriously I've seen some things) of teams get lazy about breaking stories into the right amount of story points. Neglecting to break stories into story points can lead to “Never Ending Stories” If you don’t break a story into story points, then you can’t know how much of a story has actually been completed because you don’t have a clear idea about the implementation steps required to complete the story.\n",
    "\n",
    "### No one likes bad stories"
   ]
  },
  {
   "cell_type": "markdown",
   "metadata": {
    "slideshow": {
     "slide_type": "slide"
    }
   },
   "source": [
    "## 5.) Scrumboard (All Hail the Holy Scumboard)\n",
    "\n",
    "During the Daily Scrum, the team uses a Scrumboard to coordinate their work. A Scrumboard contains a list of the stories for the current Sprint, the story points associated with each Story, and the state of each story point. The team uses the Scrumboard so everyone on the team can see, at a glance, what everyone is working on.\n",
    "\n",
    "![Image of Scrumboard | 200x100](http://3a0ojxkezud2pogen3j4z0w18nq.wpengine.netdna-cdn.com/wp-content/uploads/2012/08/clip_image005.jpg)"
   ]
  },
  {
   "cell_type": "markdown",
   "metadata": {
    "slideshow": {
     "slide_type": "slide"
    }
   },
   "source": [
    "As an analyst works on a task, the task moves from state to state and the state of the story point is updated on the Scrumboard. Common task states are ToDo, In Progress, and Done. Some teams include additional task states such as Needs Review or Needs Testing. \n",
    "\n",
    "The columns can be augmented to fit a teams needs, ***BUT SHOULD BE NO LONGER THAN NECCESSARY***\n",
    "\n",
    "once again stick to a style and use it"
   ]
  },
  {
   "cell_type": "markdown",
   "metadata": {
    "slideshow": {
     "slide_type": "fragment"
    }
   },
   "source": [
    "Some teams use a physical Scrumboard. In that case, you use index cards/sticky notes to represent the stories and the story points and you tack the index cards / sticky note onto a physical board to show its instance in space."
   ]
  },
  {
   "cell_type": "markdown",
   "metadata": {
    "slideshow": {
     "slide_type": "slide"
    }
   },
   "source": [
    "Using a physical Scrumboard has several disadvantages. A physical Scrumboard does not work well with a distributed team – for example, it is hard to share the same physical Scrumboard between Los Angeles and New York. Also, generating reports from a physical Scrumboard is more difficult than generating reports from an online Scrumboard -- see Part 10 Agile Software."
   ]
  },
  {
   "cell_type": "markdown",
   "metadata": {
    "slideshow": {
     "slide_type": "slide"
    }
   },
   "source": [
    "## 6.) Estimating Stories and Tasks\n",
    "\n",
    "Stakeholders in a project, the people investing in a project, need to have an idea of how a project is progressing and when the project will be completed. For example, if you are investing in creating an e-commerce site, you need to know when the site can be launched. If you commit to create a M-Callback you need to know how long it will take"
   ]
  },
  {
   "cell_type": "markdown",
   "metadata": {
    "slideshow": {
     "slide_type": "slide"
    }
   },
   "source": [
    "## It is not enough to just say that “the project will be done when it is done” because the stakeholders almost certainly have a limited budget to devote to the project. \n",
    "\n",
    "### The people investing in the project cannot determine the business value of the project unless they can have an estimate of how long it will take to complete the project."
   ]
  },
  {
   "cell_type": "markdown",
   "metadata": {
    "slideshow": {
     "slide_type": "slide"
    }
   },
   "source": [
    "## But there is another paradox....\n"
   ]
  },
  {
   "cell_type": "markdown",
   "metadata": {
    "slideshow": {
     "slide_type": "fragment"
    }
   },
   "source": [
    "Developers hate to give estimates. The reason that developers hate to give estimates is that the estimates are almost always completely made up. For example, you really don’t know how long it takes to build a shopping cart until you finish building a shopping cart, and at that point, the estimate is no longer useful."
   ]
  },
  {
   "cell_type": "markdown",
   "metadata": {
    "slideshow": {
     "slide_type": "fragment"
    }
   },
   "source": [
    "The problem is that writing code is much more like Finding a Cure for Cancer than Building a Brick Wall. Building a brick wall is very straightforward. After you learn how to add one brick to a wall, you understand everything that is involved in adding a brick to a wall. There is no additional research required and no surprises."
   ]
  },
  {
   "cell_type": "markdown",
   "metadata": {
    "slideshow": {
     "slide_type": "fragment"
    }
   },
   "source": [
    "If, on the other hand, I assembled a team of scientists and asked them to find a cure for cancer, and estimate exactly how long it will take, they would have no idea. The problem is that there are too many unknowns. I don’t know how to cure cancer, I need to do a lot of research here, so I cannot even begin to estimate how long it will take.\n",
    "\n",
    "All I have is a framework for knowing that I can solve the problem"
   ]
  },
  {
   "cell_type": "markdown",
   "metadata": {
    "slideshow": {
     "slide_type": "slide"
    }
   },
   "source": [
    "So developers hate to provide estimates, but the Product Owner and other product stakeholders, have a legitimate need for estimates. Scrum resolves this conflict by using the idea of ***Story Points Sizes***."
   ]
  },
  {
   "cell_type": "markdown",
   "metadata": {
    "slideshow": {
     "slide_type": "fragment"
    }
   },
   "source": [
    "Different teams use different units to represent Story Points Size. \n",
    "For example, some teams use shirt sizes such as Small, Medium, Large, and X-Large. Some teams prefer to use Coffee Cup sizes such as Tall, Short, Venti and Grande. Finally, some teams like to use numbers from the Fibonacci series. These alternative units are converted into a Story Point value."
   ]
  },
  {
   "cell_type": "markdown",
   "metadata": {
    "slideshow": {
     "slide_type": "slide"
    }
   },
   "source": [
    "## Regardless of the type of unit which you use to represent Story Points Size, the goal is the same. \n",
    "\n",
    "Instead of attempting to estimate a Story in hours (which is doomed to be inaccurate), you use a much less fine-grained measure of work. \n"
   ]
  },
  {
   "cell_type": "markdown",
   "metadata": {
    "slideshow": {
     "slide_type": "fragment"
    }
   },
   "source": [
    "A analyst team is much more likely to be correct when estimating that a Story is Small or X-Large than the exact number of hours required to complete the story. So you can think of Story Points Size as a compromise between the needs of the Product Owner and the technical team."
   ]
  },
  {
   "cell_type": "markdown",
   "metadata": {
    "slideshow": {
     "slide_type": "slide"
    }
   },
   "source": [
    "When a Sprint starts.... \n",
    "### the team devotes more time than the usual meeting to thinking about the Stories in a Sprint and the technical team breaks the Stories into Story Points to be approved by the Product Owner. \n",
    "\n",
    "\n",
    "\n"
   ]
  },
  {
   "cell_type": "markdown",
   "metadata": {
    "slideshow": {
     "slide_type": "fragment"
    }
   },
   "source": [
    "In Scrum, you estimate the work required to complete a Story by using Story Points Size and you estimate the work required to complete a Story Point by using hours."
   ]
  },
  {
   "cell_type": "markdown",
   "metadata": {
    "slideshow": {
     "slide_type": "fragment"
    }
   },
   "source": [
    "The difference between Size and Story Points is that you don’t create a Story Point until you are just about ready to start working on a Sprint. A Story Point is something that you should be able to create within a day, so you have a much better chance of providing an accurate estimate of the work required to complete a Story Point than a story."
   ]
  },
  {
   "cell_type": "markdown",
   "metadata": {
    "slideshow": {
     "slide_type": "slide"
    }
   },
   "source": [
    "## 7.) Burndown Charts (In God we Trust, All Others Must Bring Data)\n",
    "\n",
    "In Scrum, you use Burndown charts to represent the remaining work on a project. You use Release Burndown charts to represent the overall remaining Stories for a project and you use Sprint Burndown charts to represent the overall remaining story points for a particular Story. ___(Product Owners love this because it gives them control and visibility)___\n",
    "\n",
    "![Image of Chart](http://3a0ojxkezud2pogen3j4z0w18nq.wpengine.netdna-cdn.com/wp-content/uploads/2012/08/clip_image007.jpg)"
   ]
  },
  {
   "cell_type": "markdown",
   "metadata": {
    "slideshow": {
     "slide_type": "slide"
    }
   },
   "source": [
    "When each Product Backlog Story is completed, the Release Burndown chart slopes down. When each Story or task is completed, the Sprint Burndown chart slopes down.\n",
    "\n",
    "\n",
    "\n",
    "\n",
    "\n"
   ]
  },
  {
   "cell_type": "markdown",
   "metadata": {
    "slideshow": {
     "slide_type": "fragment"
    }
   },
   "source": [
    "Burndown charts typically do not always slope down over time. As new work is added to the Product Backlog, the Release Burndown chart slopes up. If new tasks are discovered during a Sprint, the Sprint Burndown chart will also slope up."
   ]
  },
  {
   "cell_type": "markdown",
   "metadata": {
    "slideshow": {
     "slide_type": "fragment"
    }
   },
   "source": [
    "The purpose of a Burndown chart is to give Product Owners a way to track team progress over time. "
   ]
  },
  {
   "cell_type": "markdown",
   "metadata": {
    "slideshow": {
     "slide_type": "fragment"
    }
   },
   "source": [
    "### If, halfway through a Sprint, the Sprint Burndown chart is still climbing a hill then you have a quantitative measure to know that you are in trouble."
   ]
  },
  {
   "cell_type": "markdown",
   "metadata": {
    "slideshow": {
     "slide_type": "slide"
    }
   },
   "source": [
    "## 8.) Team Velocity\n",
    "\n",
    "Stakeholders in a project always want more work done faster. For example, the Product Owner for the M-Callback wants the callback to be done before tomorrow. Developers tend to be overly optimistic. Rarely do developers acknowledge the physical limitations of reality and end up getting burned as a result."
   ]
  },
  {
   "cell_type": "markdown",
   "metadata": {
    "slideshow": {
     "slide_type": "slide"
    }
   },
   "source": [
    "## So the phenomena observed is that project stakeholders and the developer team often collude to delude. \n",
    "\n",
    "themselves about how much work can be done and how quickly. Too many  projects begin in a state of optimism and end in frustration as deadlines zoom by. "
   ]
  },
  {
   "cell_type": "markdown",
   "metadata": {
    "slideshow": {
     "slide_type": "fragment"
    }
   },
   "source": [
    "In Scrum, this problem is overcome by calculating a number called the Team Velocity. The Team Velocity is a measure of the average number of Story Points which a team has completed in previous Sprints.\n",
    "\n"
   ]
  },
  {
   "cell_type": "markdown",
   "metadata": {
    "slideshow": {
     "slide_type": "fragment"
    }
   },
   "source": [
    "Knowing the Team Velocity is important during the Sprint Planning meeting when the Product Owner and the team work together to determine the number of stories which can be completed in the next Sprint. If you know the Team Velocity then you can avoid committing to do more work than the team has been able to accomplish in the past, and your team is much more likely to complete all of the work required for the next Sprint."
   ]
  },
  {
   "cell_type": "markdown",
   "metadata": {
    "slideshow": {
     "slide_type": "slide"
    }
   },
   "source": [
    "## 9.) Scrum Master (The Guy/Girl Everyone Loves.. Take this person out for Coffee)\n",
    "\n",
    "There are three roles in Scrum: the Product Owner, the technical team, and the Scrum Master. I’v e already discussed the Product Owner. The Product Owner is the one and only person who maintains the Product Backlog and prioritizes the stories."
   ]
  },
  {
   "cell_type": "markdown",
   "metadata": {
    "slideshow": {
     "slide_type": "slide"
    }
   },
   "source": [
    "I’ve also described the role of the technical team. The members of the technical team do the work of implementing the stories by breaking the stories into story points."
   ]
  },
  {
   "cell_type": "markdown",
   "metadata": {
    "slideshow": {
     "slide_type": "slide"
    }
   },
   "source": [
    "## The final role, which I have not discussed, is the role of the Scrum Master. \n",
    "\n",
    "The Scrum Master is responsible for ensuring that the team is following the Scrum process. For example, the Scrum Master is responsible for making sure that there is a Daily Scrum meeting and that everyone answers the standard three questions."
   ]
  },
  {
   "cell_type": "markdown",
   "metadata": {
    "slideshow": {
     "slide_type": "fragment"
    }
   },
   "source": [
    "The Scrum Master is also responsible for removing (non-technical) impediments which the team might encounter. For example, if the team cannot start work until everyone installs the latest version of Microsoft Visual Studio then the Scrum Master has the responsibility of working with management to get the latest version of Visual Studio as quickly as possible.\n",
    "\n"
   ]
  },
  {
   "cell_type": "markdown",
   "metadata": {
    "slideshow": {
     "slide_type": "fragment"
    }
   },
   "source": [
    "The Scrum Master can be a member of the technical team. Furthermore, different people can take on the role of the Scrum Master over time. The Scrum Master, however, \n",
    "\n"
   ]
  },
  {
   "cell_type": "markdown",
   "metadata": {
    "slideshow": {
     "slide_type": "fragment"
    }
   },
   "source": [
    "# ***cannot be the same person as the Product Owner***."
   ]
  },
  {
   "cell_type": "markdown",
   "metadata": {
    "slideshow": {
     "slide_type": "slide"
    }
   },
   "source": [
    "## 10.) Using Agile Software (Optional but Reccomended there are tons of free versions)\n",
    "\n",
    "Agile Software is an online tool which you can use to manage your projects using Scrum. You can use the SonicAgile Product Backlog to create a prioritized list of stories. You can estimate the size of the Stories using different Story Point units such as Shirt Sizes and Coffee Cup sizes.\n",
    "\n",
    "![Image of AgileSoftware](http://3a0ojxkezud2pogen3j4z0w18nq.wpengine.netdna-cdn.com/wp-content/uploads/2012/08/clip_image009.jpg)"
   ]
  },
  {
   "cell_type": "markdown",
   "metadata": {
    "slideshow": {
     "slide_type": "slide"
    }
   },
   "source": [
    "You can use SonicAgile during the Sprint Planning meeting to select the Stories that you want to complete during a particular Sprint. You can configure Sprints to be any length of time.\n",
    "\n"
   ]
  },
  {
   "cell_type": "markdown",
   "metadata": {
    "slideshow": {
     "slide_type": "fragment"
    }
   },
   "source": [
    "SonicAgile calculates Team Velocity automatically and displays a warning when you add too many stories to a Sprint. In other words, it warns you when it thinks you are overcommitting in a Sprint.\n",
    "\n"
   ]
  },
  {
   "cell_type": "markdown",
   "metadata": {
    "slideshow": {
     "slide_type": "fragment"
    }
   },
   "source": [
    "SonicAgile also includes a Scrumboard which displays the list of Stories selected for a Sprint and the tasks associated with each story. You can drag tasks from one task state to another.\n",
    "\n"
   ]
  },
  {
   "cell_type": "markdown",
   "metadata": {
    "slideshow": {
     "slide_type": "fragment"
    }
   },
   "source": [
    "Finally, SonicAgile enables you to generate Release Burndown and Sprint Burndown charts. You can use these charts to view the progress of your team."
   ]
  },
  {
   "cell_type": "markdown",
   "metadata": {
    "slideshow": {
     "slide_type": "slide"
    }
   },
   "source": [
    "## 11.) Summary\n",
    "\n",
    "In this post, I described many of the basic concepts of Scrum. You learned how a Product Owner uses a Product Backlog to create a prioritized list of tasks. I explained why work is completed in Sprints so the developer team can be more productive.\n",
    "\n"
   ]
  },
  {
   "cell_type": "markdown",
   "metadata": {
    "slideshow": {
     "slide_type": "fragment"
    }
   },
   "source": [
    "I also explained how a developer team uses the daily scrum to coordinate their work. You learned how the developer team uses a Scrumboard to see, at a glance, who is working on what and the state of each task.\n",
    "\n"
   ]
  },
  {
   "cell_type": "markdown",
   "metadata": {
    "slideshow": {
     "slide_type": "fragment"
    }
   },
   "source": [
    "I also discussed Burndown charts. You learned how you can use both Release and Sprint Burndown charts to track team progress in completing a project.\n",
    "\n"
   ]
  },
  {
   "cell_type": "markdown",
   "metadata": {
    "slideshow": {
     "slide_type": "fragment"
    }
   },
   "source": [
    "Finally, I described the crucial role of the Scrum Master – the person who is responsible for ensuring that the rules of Scrum are being followed. (LAY DOWN THE HAMMER SCRUM MASTER!)\n",
    "\n"
   ]
  },
  {
   "cell_type": "markdown",
   "metadata": {
    "slideshow": {
     "slide_type": "slide"
    }
   },
   "source": [
    "My goal was not to describe all of the concepts of Scrum. This post was intended to be an introductory overview. For a comprehensive explanation of Scrum, I recommend reading Ken Schwaber’s book Agile Project Management with Scrum:\n",
    "\n",
    "(A great team is ok at Scrum the best teams are amazing at Scrum.. It Takes Practice, its Iterative!)"
   ]
  },
  {
   "cell_type": "markdown",
   "metadata": {
    "slideshow": {
     "slide_type": "slide"
    }
   },
   "source": [
    "# Thank You For Listening!\n",
    "\n",
    "![Image of Thanks](data:image/png;base64,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)\n",
    "\n",
    "Content by: Nicholas Guerrero @ City National Bank Los Angeles"
   ]
  },
  {
   "cell_type": "markdown",
   "metadata": {
    "collapsed": true,
    "slideshow": {
     "slide_type": "slide"
    }
   },
   "source": [
    "## Silicon Valley S01E05 scrum scene\n",
    "\n",
    "[![Image of Silicon Vallery](data:image/jpeg;base64,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)](https://www.youtube.com/watch?v=z_GKAdpnh7Y \"HBO's Silicon Vallery Video\")"
   ]
  },
  {
   "cell_type": "code",
   "execution_count": null,
   "metadata": {
    "collapsed": true
   },
   "outputs": [],
   "source": []
  }
 ],
 "metadata": {
  "celltoolbar": "Slideshow",
  "kernelspec": {
   "display_name": "Python 3",
   "language": "python",
   "name": "python3"
  },
  "language_info": {
   "codemirror_mode": {
    "name": "ipython",
    "version": 3
   },
   "file_extension": ".py",
   "mimetype": "text/x-python",
   "name": "python",
   "nbconvert_exporter": "python",
   "pygments_lexer": "ipython3",
   "version": "3.6.3"
  }
 },
 "nbformat": 4,
 "nbformat_minor": 2
}
